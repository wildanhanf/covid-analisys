{
  "nbformat": 4,
  "nbformat_minor": 0,
  "metadata": {
    "colab": {
      "provenance": []
    },
    "kernelspec": {
      "name": "python3",
      "display_name": "Python 3"
    },
    "language_info": {
      "name": "python"
    }
  },
  "cells": [
    {
      "cell_type": "markdown",
      "source": [
        "# Import library"
      ],
      "metadata": {
        "id": "H9FBZIWYJ8jc"
      }
    },
    {
      "cell_type": "code",
      "execution_count": 12,
      "metadata": {
        "id": "0W316JjrJdU2"
      },
      "outputs": [],
      "source": [
        "import pandas as pd \n",
        "import matplotlib.pyplot as plt"
      ]
    },
    {
      "cell_type": "markdown",
      "source": [
        "# Read (.json) file from google drive\n"
      ],
      "metadata": {
        "id": "LsvLgN_mJ9bi"
      }
    },
    {
      "cell_type": "code",
      "source": [
        "from google.colab import drive \n",
        "drive.mount('/content/gdrive')\n",
        "\n",
        "df_covid_worldwide = pd.read_json('gdrive/My Drive/covid19_worldwide_2020.json')"
      ],
      "metadata": {
        "colab": {
          "base_uri": "https://localhost:8080/"
        },
        "id": "ZcmNTLOgJ9n7",
        "outputId": "788a5a4a-ae3c-4951-8822-b195b72f444b"
      },
      "execution_count": 13,
      "outputs": [
        {
          "output_type": "stream",
          "name": "stdout",
          "text": [
            "Drive already mounted at /content/gdrive; to attempt to forcibly remount, call drive.mount(\"/content/gdrive\", force_remount=True).\n"
          ]
        }
      ]
    },
    {
      "cell_type": "markdown",
      "source": [
        "# Size of the dataset and the contents of the dataset "
      ],
      "metadata": {
        "id": "Gic_c6qSKmS6"
      }
    },
    {
      "cell_type": "code",
      "source": [
        "print(\"Dataset size: %d columns dan %d rows.\\n\" % df_covid_worldwide.shape)\n",
        "print(df_covid_worldwide.head(20))"
      ],
      "metadata": {
        "colab": {
          "base_uri": "https://localhost:8080/"
        },
        "id": "uluCwfS6Kmea",
        "outputId": "d5aebb4a-0e6b-4fd2-c161-0037621f55f8"
      },
      "execution_count": 14,
      "outputs": [
        {
          "output_type": "stream",
          "name": "stdout",
          "text": [
            "Dataset size: 61900 columns dan 6 rows.\n",
            "\n",
            "         date  daily_confirmed_cases  daily_deaths  confirmed_cases  deaths  \\\n",
            "0  2020-03-20                      1             0                1       0   \n",
            "1  2020-03-21                      0             0                1       0   \n",
            "2  2020-03-22                      1             0                2       0   \n",
            "3  2020-03-23                      0             0                2       0   \n",
            "4  2020-03-24                      0             0                2       0   \n",
            "5  2020-03-25                      1             0                3       0   \n",
            "6  2020-03-26                      0             0                3       0   \n",
            "7  2020-03-27                      2             0                5       0   \n",
            "8  2020-03-28                      0             0                5       0   \n",
            "9  2020-03-29                      0             0                5       0   \n",
            "10 2020-03-30                      0             0                5       0   \n",
            "11 2020-03-31                      2             0                7       0   \n",
            "12 2020-04-01                      0             0                7       0   \n",
            "13 2020-04-02                      0             0                7       0   \n",
            "14 2020-04-03                      0             0                7       0   \n",
            "15 2020-04-04                      0             0                7       0   \n",
            "16 2020-04-05                      1             0                8       0   \n",
            "17 2020-04-06                      1             0                9       0   \n",
            "18 2020-04-07                      0             0                9       0   \n",
            "19 2020-04-08                      0             0                9       0   \n",
            "\n",
            "   geo_id  \n",
            "0      TD  \n",
            "1      TD  \n",
            "2      TD  \n",
            "3      TD  \n",
            "4      TD  \n",
            "5      TD  \n",
            "6      TD  \n",
            "7      TD  \n",
            "8      TD  \n",
            "9      TD  \n",
            "10     TD  \n",
            "11     TD  \n",
            "12     TD  \n",
            "13     TD  \n",
            "14     TD  \n",
            "15     TD  \n",
            "16     TD  \n",
            "17     TD  \n",
            "18     TD  \n",
            "19     TD  \n"
          ]
        }
      ]
    },
    {
      "cell_type": "markdown",
      "source": [
        "# Set index on date column"
      ],
      "metadata": {
        "id": "qiTPd9pILeOt"
      }
    },
    {
      "cell_type": "code",
      "source": [
        "print(\"Initial information:\")\n",
        "df_covid_worldwide.info()\n",
        "\n",
        "df_covid_worldwide = df_covid_worldwide.set_index(\"date\").sort_index()\n",
        "\n",
        "print(\"\\nAfter setting index on date column:\")\n",
        "df_covid_worldwide.info()"
      ],
      "metadata": {
        "colab": {
          "base_uri": "https://localhost:8080/"
        },
        "id": "rF195H2nLeWl",
        "outputId": "2987108a-23b6-4ce5-ef05-f215d2312928"
      },
      "execution_count": 15,
      "outputs": [
        {
          "output_type": "stream",
          "name": "stdout",
          "text": [
            "Initial information:\n",
            "<class 'pandas.core.frame.DataFrame'>\n",
            "Int64Index: 61900 entries, 0 to 61899\n",
            "Data columns (total 6 columns):\n",
            " #   Column                 Non-Null Count  Dtype         \n",
            "---  ------                 --------------  -----         \n",
            " 0   date                   61900 non-null  datetime64[ns]\n",
            " 1   daily_confirmed_cases  61900 non-null  int64         \n",
            " 2   daily_deaths           61900 non-null  int64         \n",
            " 3   confirmed_cases        61900 non-null  int64         \n",
            " 4   deaths                 61900 non-null  int64         \n",
            " 5   geo_id                 61625 non-null  object        \n",
            "dtypes: datetime64[ns](1), int64(4), object(1)\n",
            "memory usage: 3.3+ MB\n",
            "\n",
            "After setting index on date column:\n",
            "<class 'pandas.core.frame.DataFrame'>\n",
            "DatetimeIndex: 61900 entries, 2019-12-31 to 2020-12-14\n",
            "Data columns (total 5 columns):\n",
            " #   Column                 Non-Null Count  Dtype \n",
            "---  ------                 --------------  ----- \n",
            " 0   daily_confirmed_cases  61900 non-null  int64 \n",
            " 1   daily_deaths           61900 non-null  int64 \n",
            " 2   confirmed_cases        61900 non-null  int64 \n",
            " 3   deaths                 61900 non-null  int64 \n",
            " 4   geo_id                 61625 non-null  object\n",
            "dtypes: int64(4), object(1)\n",
            "memory usage: 2.8+ MB\n"
          ]
        }
      ]
    },
    {
      "cell_type": "markdown",
      "source": [
        "# Check for missing value"
      ],
      "metadata": {
        "id": "Gflot2VyLttl"
      }
    },
    {
      "cell_type": "code",
      "source": [
        "print(\"Missing value: \", df_covid_worldwide.isna().sum())\n",
        "\n",
        "df_covid_worldwide.dropna(inplace=True) # drop missing value\n",
        "print(\"Missing value after drop: \", df_covid_worldwide.isna().sum())"
      ],
      "metadata": {
        "colab": {
          "base_uri": "https://localhost:8080/"
        },
        "id": "s89LbRMdLt0L",
        "outputId": "b638352e-798b-46f8-c0fc-388b72d9806d"
      },
      "execution_count": 16,
      "outputs": [
        {
          "output_type": "stream",
          "name": "stdout",
          "text": [
            "Missing value:  daily_confirmed_cases      0\n",
            "daily_deaths               0\n",
            "confirmed_cases            0\n",
            "deaths                     0\n",
            "geo_id                   275\n",
            "dtype: int64\n",
            "Missing value after drop:  daily_confirmed_cases    0\n",
            "daily_deaths             0\n",
            "confirmed_cases          0\n",
            "deaths                   0\n",
            "geo_id                   0\n",
            "dtype: int64\n"
          ]
        }
      ]
    },
    {
      "cell_type": "markdown",
      "source": [
        "# Import country_details dataset \n",
        "because in the previous step we drop several geo_id rows contain missing value"
      ],
      "metadata": {
        "id": "lsDUzSrfMF97"
      }
    },
    {
      "cell_type": "code",
      "source": [
        "from google.colab import drive \n",
        "drive.mount('/content/gdrive')\n",
        "\n",
        "df_countries = pd.read_json('gdrive/My Drive/country_details.json')\n",
        "print(df_countries.head(10))"
      ],
      "metadata": {
        "colab": {
          "base_uri": "https://localhost:8080/"
        },
        "id": "bCG_g53tMGEo",
        "outputId": "829ee94e-820e-4cf2-df60-2fbd89522bd0"
      },
      "execution_count": 18,
      "outputs": [
        {
          "output_type": "stream",
          "name": "stdout",
          "text": [
            "Drive already mounted at /content/gdrive; to attempt to forcibly remount, call drive.mount(\"/content/gdrive\", force_remount=True).\n",
            "  geo_id country_name\n",
            "0     TD         Chad\n",
            "1     CU         Cuba\n",
            "2     FJ         Fiji\n",
            "3     GU         Guam\n",
            "4     IR         Iran\n",
            "5     IQ         Iraq\n",
            "6     LA         Laos\n",
            "7     ML         Mali\n",
            "8     OM         Oman\n",
            "9     PE         Peru\n"
          ]
        }
      ]
    },
    {
      "cell_type": "markdown",
      "source": [
        "# Merging covid19_worldwide_2020.json and country_details.json\n",
        "Mapping covid-19 data and country data. Use pandas's .merge function to merge df_covid_worldwide and df_countries.\n",
        "\n",
        "To merge, use the geo_id column, (df_covid_worldwide has an index in the date column, so we need to .reset_index()). After the merge, the index can be set back to the date column."
      ],
      "metadata": {
        "id": "XRF86TbiNur5"
      }
    },
    {
      "cell_type": "code",
      "source": [
        "df_covid_denormalized = pd.merge(df_covid_worldwide.reset_index(), df_countries, on=\"geo_id\").set_index(\"date\")\n",
        "print(df_covid_denormalized.head(10))"
      ],
      "metadata": {
        "colab": {
          "base_uri": "https://localhost:8080/"
        },
        "id": "MjW_KT_TNu1X",
        "outputId": "3f8c47ca-e6fb-4755-ce4d-93af6233c929"
      },
      "execution_count": 21,
      "outputs": [
        {
          "output_type": "stream",
          "name": "stdout",
          "text": [
            "            daily_confirmed_cases  daily_deaths  confirmed_cases  deaths  \\\n",
            "date                                                                       \n",
            "2019-12-31                      0             0                0       0   \n",
            "2020-01-01                      0             0                0       0   \n",
            "2020-01-02                      0             0                0       0   \n",
            "2020-01-03                      0             0                0       0   \n",
            "2020-01-04                      0             0                0       0   \n",
            "2020-01-05                      0             0                0       0   \n",
            "2020-01-06                      0             0                0       0   \n",
            "2020-01-07                      0             0                0       0   \n",
            "2020-01-08                      0             0                0       0   \n",
            "2020-01-09                      0             0                0       0   \n",
            "\n",
            "           geo_id country_name  \n",
            "date                            \n",
            "2019-12-31     IN        India  \n",
            "2020-01-01     IN        India  \n",
            "2020-01-02     IN        India  \n",
            "2020-01-03     IN        India  \n",
            "2020-01-04     IN        India  \n",
            "2020-01-05     IN        India  \n",
            "2020-01-06     IN        India  \n",
            "2020-01-07     IN        India  \n",
            "2020-01-08     IN        India  \n",
            "2020-01-09     IN        India  \n"
          ]
        }
      ]
    },
    {
      "cell_type": "markdown",
      "source": [
        "# Find the first cases of covid-19 in various countries."
      ],
      "metadata": {
        "id": "b0k4mFsFVXVo"
      }
    },
    {
      "cell_type": "code",
      "source": [
        "unique_country = df_covid_denormalized[\"country_name\"].unique()\n",
        "for all_country in unique_country:\n",
        "    country = df_covid_denormalized[df_covid_denormalized[\"country_name\"]==all_country]\n",
        "    first_case = country[country[\"confirmed_cases\"]>0][[\"confirmed_cases\",\"country_name\"]]\n",
        "    print(first_case.head(1))"
      ],
      "metadata": {
        "colab": {
          "base_uri": "https://localhost:8080/"
        },
        "id": "NLFjyD8LVXfG",
        "outputId": "356f3d10-afa5-4613-87d9-ea8ba3fefd8f"
      },
      "execution_count": 59,
      "outputs": [
        {
          "output_type": "stream",
          "name": "stdout",
          "text": [
            "            confirmed_cases country_name\n",
            "date                                    \n",
            "2020-01-30                1        India\n",
            "            confirmed_cases country_name\n",
            "date                                    \n",
            "2020-02-20                2         Iran\n",
            "            confirmed_cases country_name\n",
            "date                                    \n",
            "2020-02-27                2     Pakistan\n",
            "            confirmed_cases country_name\n",
            "date                                    \n",
            "2020-03-01                1      Armenia\n",
            "            confirmed_cases country_name\n",
            "date                                    \n",
            "2019-12-31               27        China\n",
            "            confirmed_cases country_name\n",
            "date                                    \n",
            "2020-02-29                1   Azerbaijan\n",
            "            confirmed_cases country_name\n",
            "date                                    \n",
            "2020-02-26                1      Algeria\n",
            "            confirmed_cases country_name\n",
            "date                                    \n",
            "2020-03-01                1   Luxembourg\n",
            "            confirmed_cases country_name\n",
            "date                                    \n",
            "2020-01-25                1        Nepal\n",
            "            confirmed_cases country_name\n",
            "date                                    \n",
            "2020-01-25                3     Malaysia\n",
            "            confirmed_cases country_name\n",
            "date                                    \n",
            "2020-02-29                1      Iceland\n",
            "            confirmed_cases country_name\n",
            "date                                    \n",
            "2020-01-20                1  South_Korea\n",
            "            confirmed_cases country_name\n",
            "date                                    \n",
            "2020-02-15                1        Egypt\n",
            "            confirmed_cases              country_name\n",
            "date                                                 \n",
            "2020-01-21                1  United_States_of_America\n",
            "            confirmed_cases country_name\n",
            "date                                    \n",
            "2020-02-24                3       Kuwait\n",
            "            confirmed_cases country_name\n",
            "date                                    \n",
            "2020-03-01                1      Ireland\n",
            "            confirmed_cases country_name\n",
            "date                                    \n",
            "2020-01-21                1       Taiwan\n",
            "            confirmed_cases country_name\n",
            "date                                    \n",
            "2020-02-28                1   San_Marino\n",
            "            confirmed_cases country_name\n",
            "date                                    \n",
            "2020-01-15                1        Japan\n",
            "            confirmed_cases country_name\n",
            "date                                    \n",
            "2020-01-28                1     Cambodia\n",
            "            confirmed_cases country_name\n",
            "date                                    \n",
            "2020-02-22                1      Lebanon\n",
            "            confirmed_cases country_name\n",
            "date                                    \n",
            "2020-02-25                2         Oman\n",
            "            confirmed_cases country_name\n",
            "date                                    \n",
            "2020-02-05                1       Sweden\n",
            "            confirmed_cases country_name\n",
            "date                                    \n",
            "2020-01-30                1  Philippines\n",
            "            confirmed_cases country_name\n",
            "date                                    \n",
            "2020-01-14                1       Mexico\n",
            "            confirmed_cases country_name\n",
            "date                                    \n",
            "2020-01-31                3        Italy\n",
            "            confirmed_cases country_name\n",
            "date                                    \n",
            "2020-02-26                1  Switzerland\n",
            "            confirmed_cases          country_name\n",
            "date                                             \n",
            "2020-01-27                1  United_Arab_Emirates\n",
            "            confirmed_cases country_name\n",
            "date                                    \n",
            "2020-02-27                1      Georgia\n",
            "            confirmed_cases country_name\n",
            "date                                    \n",
            "2020-02-26                2      Austria\n",
            "            confirmed_cases country_name\n",
            "date                                    \n",
            "2020-02-26                1      Croatia\n",
            "            confirmed_cases country_name\n",
            "date                                    \n",
            "2020-01-26                1       Canada\n",
            "            confirmed_cases     country_name\n",
            "date                                        \n",
            "2020-02-27                1  North_Macedonia\n",
            "            confirmed_cases country_name\n",
            "date                                    \n",
            "2020-02-28                1    Lithuania\n",
            "            confirmed_cases country_name\n",
            "date                                    \n",
            "2020-03-02                2    Indonesia\n",
            "            confirmed_cases country_name\n",
            "date                                    \n",
            "2020-03-02                3      Czechia\n",
            "            confirmed_cases country_name\n",
            "date                                    \n",
            "2020-02-27                1      Denmark\n",
            "            confirmed_cases    country_name\n",
            "date                                       \n",
            "2020-02-01                2  United_Kingdom\n",
            "            confirmed_cases country_name\n",
            "date                                    \n",
            "2020-02-26                1       Brazil\n",
            "            confirmed_cases country_name\n",
            "date                                    \n",
            "2020-02-04                1      Belgium\n",
            "            confirmed_cases country_name\n",
            "date                                    \n",
            "2020-02-25                1         Iraq\n",
            "            confirmed_cases country_name\n",
            "date                                    \n",
            "2020-01-25                3       France\n",
            "            confirmed_cases country_name\n",
            "date                                    \n",
            "2020-02-28                1      Nigeria\n",
            "            confirmed_cases country_name\n",
            "date                                    \n",
            "2020-01-25                1    Australia\n",
            "            confirmed_cases country_name\n",
            "date                                    \n",
            "2020-02-01                1        Spain\n",
            "            confirmed_cases country_name\n",
            "date                                    \n",
            "2020-02-28                1      Belarus\n",
            "            confirmed_cases country_name\n",
            "date                                    \n",
            "2020-01-24                3    Singapore\n",
            "            confirmed_cases        country_name\n",
            "date                                           \n",
            "2020-03-02                1  Dominican_Republic\n",
            "            confirmed_cases country_name\n",
            "date                                    \n",
            "2020-02-27                1       Greece\n",
            "            confirmed_cases country_name\n",
            "date                                    \n",
            "2020-02-24                1      Bahrain\n",
            "            confirmed_cases country_name\n",
            "date                                    \n",
            "2020-01-13                1     Thailand\n",
            "            confirmed_cases country_name\n",
            "date                                    \n",
            "2020-02-28                1      Estonia\n",
            "            confirmed_cases country_name\n",
            "date                                    \n",
            "2020-01-28                1    Sri_Lanka\n",
            "            confirmed_cases country_name\n",
            "date                                    \n",
            "2020-02-22                1       Israel\n",
            "            confirmed_cases country_name\n",
            "date                                    \n",
            "2020-01-30                1      Finland\n",
            "            confirmed_cases country_name\n",
            "date                                    \n",
            "2020-03-01                1        Qatar\n",
            "            confirmed_cases country_name\n",
            "date                                    \n",
            "2020-03-01                1      Ecuador\n",
            "            confirmed_cases                                country_name\n",
            "date                                                                   \n",
            "2020-02-05               10  Cases_on_an_international_conveyance_Japan\n",
            "            confirmed_cases country_name\n",
            "date                                    \n",
            "2020-01-28                1      Germany\n",
            "            confirmed_cases country_name\n",
            "date                                    \n",
            "2020-02-27                1      Romania\n",
            "            confirmed_cases country_name\n",
            "date                                    \n",
            "2020-02-25                1  Afghanistan\n",
            "            confirmed_cases country_name\n",
            "date                                    \n",
            "2020-02-01                2       Russia\n",
            "            confirmed_cases country_name\n",
            "date                                    \n",
            "2020-01-24                2      Vietnam\n",
            "            confirmed_cases country_name\n",
            "date                                    \n",
            "2020-02-28                1  New_Zealand\n",
            "            confirmed_cases country_name\n",
            "date                                    \n",
            "2020-02-28                1  Netherlands\n",
            "            confirmed_cases country_name\n",
            "date                                    \n",
            "2020-02-29                1       Monaco\n",
            "            confirmed_cases country_name\n",
            "date                                    \n",
            "2020-02-27                1       Norway\n",
            "            confirmed_cases country_name\n",
            "date                                    \n",
            "2020-03-03                1       Jordan\n",
            "            confirmed_cases  country_name\n",
            "date                                     \n",
            "2020-03-03                1  Saudi_Arabia\n",
            "            confirmed_cases country_name\n",
            "date                                    \n",
            "2020-03-03                1      Andorra\n",
            "            confirmed_cases country_name\n",
            "date                                    \n",
            "2020-03-03                1       Latvia\n",
            "            confirmed_cases country_name\n",
            "date                                    \n",
            "2020-03-03                2     Portugal\n",
            "            confirmed_cases country_name\n",
            "date                                    \n",
            "2020-03-03                1      Tunisia\n",
            "            confirmed_cases  country_name\n",
            "date                                     \n",
            "2020-03-03                1  Sint_Maarten\n",
            "            confirmed_cases country_name\n",
            "date                                    \n",
            "2020-03-03                1      Senegal\n",
            "            confirmed_cases country_name\n",
            "date                                    \n",
            "2020-03-03                1      Morocco\n",
            "            confirmed_cases country_name\n",
            "date                                    \n",
            "2020-03-04                1        Chile\n",
            "            confirmed_cases country_name\n",
            "date                                    \n",
            "2020-03-04                1       Poland\n",
            "            confirmed_cases country_name\n",
            "date                                    \n",
            "2020-03-04                1      Ukraine\n",
            "            confirmed_cases country_name\n",
            "date                                    \n",
            "2020-03-04                1    Argentina\n",
            "            confirmed_cases   country_name\n",
            "date                                      \n",
            "2020-03-05                1  Liechtenstein\n",
            "            confirmed_cases country_name\n",
            "date                                    \n",
            "2020-03-05                1     Slovenia\n",
            "            confirmed_cases country_name\n",
            "date                                    \n",
            "2020-03-05                2      Hungary\n",
            "            confirmed_cases   country_name\n",
            "date                                      \n",
            "2020-03-06                1  Faroe_Islands\n",
            "            confirmed_cases country_name\n",
            "date                                    \n",
            "2020-03-06                7    Palestine\n",
            "            confirmed_cases  country_name\n",
            "date                                     \n",
            "2020-03-06                1  South_Africa\n",
            "            confirmed_cases            country_name\n",
            "date                                               \n",
            "2020-03-06                2  Bosnia_and_Herzegovina\n",
            "            confirmed_cases country_name\n",
            "date                                    \n",
            "2020-03-06                1       Bhutan\n",
            "            confirmed_cases country_name\n",
            "date                                    \n",
            "2020-03-07                1     Slovakia\n",
            "            confirmed_cases country_name\n",
            "date                                    \n",
            "2020-03-07                1        Malta\n",
            "            confirmed_cases country_name\n",
            "date                                    \n",
            "2020-03-07                1       Serbia\n",
            "            confirmed_cases country_name\n",
            "date                                    \n",
            "2020-03-07                1         Togo\n",
            "            confirmed_cases country_name\n",
            "date                                    \n",
            "2020-03-07                1         Peru\n",
            "            confirmed_cases country_name\n",
            "date                                    \n",
            "2020-03-07                1   Costa_Rica\n",
            "            confirmed_cases country_name\n",
            "date                                    \n",
            "2020-03-07                1     Colombia\n",
            "            confirmed_cases country_name\n",
            "date                                    \n",
            "2020-03-07                1     Holy_See\n",
            "            confirmed_cases country_name\n",
            "date                                    \n",
            "2020-03-07                1     Cameroon\n",
            "            confirmed_cases country_name\n",
            "date                                    \n",
            "2020-03-08                1      Moldova\n",
            "            confirmed_cases country_name\n",
            "date                                    \n",
            "2020-03-08                2     Bulgaria\n",
            "            confirmed_cases country_name\n",
            "date                                    \n",
            "2020-03-08                1     Paraguay\n",
            "            confirmed_cases country_name\n",
            "date                                    \n",
            "2020-03-08                2     Maldives\n",
            "            confirmed_cases country_name\n",
            "date                                    \n",
            "2020-03-09                3   Bangladesh\n",
            "            confirmed_cases country_name\n",
            "date                                    \n",
            "2020-03-09                2      Albania\n",
            "            confirmed_cases country_name\n",
            "date                                    \n",
            "2020-03-10                2       Cyprus\n",
            "            confirmed_cases country_name\n",
            "date                                    \n",
            "2020-03-10                1     Mongolia\n",
            "            confirmed_cases country_name\n",
            "date                                    \n",
            "2020-03-10                1       Panama\n",
            "            confirmed_cases       country_name\n",
            "date                                          \n",
            "2020-03-10                1  Brunei_Darussalam\n",
            "            confirmed_cases                      country_name\n",
            "date                                                         \n",
            "2020-03-11                1  Democratic_Republic_of_the_Congo\n",
            "            confirmed_cases  country_name\n",
            "date                                     \n",
            "2020-03-11                2  Burkina_Faso\n",
            "            confirmed_cases country_name\n",
            "date                                    \n",
            "2020-03-12                2      Jamaica\n",
            "            confirmed_cases  country_name\n",
            "date                                     \n",
            "2020-03-12                1  Cote_dIvoire\n",
            "            confirmed_cases country_name\n",
            "date                                    \n",
            "2020-03-12                2      Bolivia\n",
            "            confirmed_cases country_name\n",
            "date                                    \n",
            "2020-03-12                3         Cuba\n",
            "            confirmed_cases country_name\n",
            "date                                    \n",
            "2020-03-12                2     Honduras\n",
            "            confirmed_cases country_name\n",
            "date                                    \n",
            "2020-03-12                1       Turkey\n",
            "            confirmed_cases country_name\n",
            "date                                    \n",
            "2020-03-13                1       Guyana\n",
            "            confirmed_cases country_name\n",
            "date                                    \n",
            "2020-03-13                2        Aruba\n",
            "            confirmed_cases country_name\n",
            "date                                    \n",
            "2020-03-13                2        Ghana\n",
            "            confirmed_cases country_name\n",
            "date                                    \n",
            "2020-03-13                1      Curaçao\n",
            "            confirmed_cases         country_name\n",
            "date                                            \n",
            "2020-03-13                1  Trinidad_and_Tobago\n",
            "            confirmed_cases                      country_name\n",
            "date                                                         \n",
            "2020-03-13                1  Saint_Vincent_and_the_Grenadines\n",
            "            confirmed_cases country_name\n",
            "date                                    \n",
            "2020-03-13                1        Gabon\n",
            "            confirmed_cases country_name\n",
            "date                                    \n",
            "2020-03-14                1        Sudan\n",
            "            confirmed_cases country_name\n",
            "date                                    \n",
            "2020-03-14                1       Guinea\n",
            "            confirmed_cases country_name\n",
            "date                                    \n",
            "2020-03-14                1     Ethiopia\n",
            "            confirmed_cases country_name\n",
            "date                                    \n",
            "2020-03-14                1        Kenya\n",
            "            confirmed_cases country_name\n",
            "date                                    \n",
            "2020-03-14                2       Kosovo\n",
            "            confirmed_cases country_name\n",
            "date                                    \n",
            "2020-03-15                6      Uruguay\n",
            "            confirmed_cases country_name\n",
            "date                                    \n",
            "2020-03-15                1    Guatemala\n",
            "            confirmed_cases country_name\n",
            "date                                    \n",
            "2020-03-15               10    Venezuela\n",
            "            confirmed_cases       country_name\n",
            "date                                          \n",
            "2020-03-15                1  Equatorial_Guinea\n",
            "            confirmed_cases country_name\n",
            "date                                    \n",
            "2020-03-15                1   Mauritania\n",
            "            confirmed_cases country_name\n",
            "date                                    \n",
            "2020-03-15                1     Suriname\n",
            "            confirmed_cases country_name\n",
            "date                                    \n",
            "2020-03-15                1       Rwanda\n",
            "            confirmed_cases country_name\n",
            "date                                    \n",
            "2020-03-15                2   Seychelles\n",
            "            confirmed_cases country_name\n",
            "date                                    \n",
            "2020-03-15                6   Kazakhstan\n",
            "            confirmed_cases country_name\n",
            "date                                    \n",
            "2020-03-15                1     Eswatini\n",
            "            confirmed_cases country_name\n",
            "date                                    \n",
            "2020-03-15                2  Saint_Lucia\n",
            "            confirmed_cases         country_name\n",
            "date                                            \n",
            "2020-03-15                1  Antigua_and_Barbuda\n",
            "            confirmed_cases country_name\n",
            "date                                    \n",
            "2020-03-16                1      Bahamas\n",
            "            confirmed_cases country_name\n",
            "date                                    \n",
            "2020-03-16                1        Congo\n",
            "            confirmed_cases              country_name\n",
            "date                                                 \n",
            "2020-03-16                1  Central_African_Republic\n",
            "            confirmed_cases country_name\n",
            "date                                    \n",
            "2020-03-16                6   Uzbekistan\n",
            "            confirmed_cases                 country_name\n",
            "date                                                    \n",
            "2020-03-17                1  United_Republic_of_Tanzania\n",
            "            confirmed_cases country_name\n",
            "date                                    \n",
            "2020-03-17                1      Somalia\n",
            "            confirmed_cases country_name\n",
            "date                                    \n",
            "2020-03-17                1        Benin\n",
            "            confirmed_cases country_name\n",
            "date                                    \n",
            "2020-03-17                1      Liberia\n",
            "            confirmed_cases country_name\n",
            "date                                    \n",
            "2020-03-24                2      Myanmar\n",
            "            confirmed_cases country_name\n",
            "date                                    \n",
            "2020-03-18                1     Barbados\n",
            "            confirmed_cases country_name\n",
            "date                                    \n",
            "2020-03-18                1       Gambia\n",
            "            confirmed_cases country_name\n",
            "date                                    \n",
            "2020-03-18                2   Montenegro\n",
            "            confirmed_cases country_name\n",
            "date                                    \n",
            "2020-03-19                3         Guam\n",
            "            confirmed_cases country_name\n",
            "date                                    \n",
            "2020-03-19                1     Djibouti\n",
            "            confirmed_cases country_name\n",
            "date                                    \n",
            "2020-03-19                2       Zambia\n",
            "            confirmed_cases country_name\n",
            "date                                    \n",
            "2020-03-19                1    Nicaragua\n",
            "            confirmed_cases      country_name\n",
            "date                                         \n",
            "2020-03-19                3  French_Polynesia\n",
            "            confirmed_cases country_name\n",
            "date                                    \n",
            "2020-03-19                3   Kyrgyzstan\n",
            "            confirmed_cases country_name\n",
            "date                                    \n",
            "2020-03-19                1  El_Salvador\n",
            "            confirmed_cases    country_name\n",
            "date                                       \n",
            "2020-03-20                1  Cayman_Islands\n",
            "            confirmed_cases country_name\n",
            "date                                    \n",
            "2020-03-20                2      Bermuda\n",
            "            confirmed_cases country_name\n",
            "date                                    \n",
            "2020-03-20                2    Greenland\n",
            "            confirmed_cases country_name\n",
            "date                                    \n",
            "2020-03-20               10    Gibraltar\n",
            "            confirmed_cases country_name\n",
            "date                                    \n",
            "2020-03-20                1     Guernsey\n",
            "            confirmed_cases country_name\n",
            "date                                    \n",
            "2020-03-20                5       Jersey\n",
            "            confirmed_cases country_name\n",
            "date                                    \n",
            "2020-03-20                3    Mauritius\n",
            "            confirmed_cases country_name\n",
            "date                                    \n",
            "2020-03-20                1         Chad\n",
            "            confirmed_cases country_name\n",
            "date                                    \n",
            "2020-03-20                2        Haiti\n",
            "            confirmed_cases country_name\n",
            "date                                    \n",
            "2020-03-20                1         Fiji\n",
            "            confirmed_cases country_name\n",
            "date                                    \n",
            "2020-03-21                1   Montserrat\n",
            "            confirmed_cases country_name\n",
            "date                                    \n",
            "2020-03-21                2   Cape_Verde\n",
            "            confirmed_cases country_name\n",
            "date                                    \n",
            "2020-03-21                3   Madagascar\n",
            "            confirmed_cases   country_name\n",
            "date                                      \n",
            "2020-03-21                2  New_Caledonia\n",
            "            confirmed_cases      country_name\n",
            "date                                         \n",
            "2020-03-21                1  Papua_New_Guinea\n",
            "            confirmed_cases country_name\n",
            "date                                    \n",
            "2020-03-21                1        Niger\n",
            "            confirmed_cases country_name\n",
            "date                                    \n",
            "2020-03-21                1  Isle_of_Man\n",
            "            confirmed_cases country_name\n",
            "date                                    \n",
            "2020-03-21                1     Zimbabwe\n",
            "            confirmed_cases country_name\n",
            "date                                    \n",
            "2020-03-22                1      Eritrea\n",
            "            confirmed_cases country_name\n",
            "date                                    \n",
            "2020-03-22                2       Angola\n",
            "            confirmed_cases country_name\n",
            "date                                    \n",
            "2020-03-22                1       Uganda\n",
            "            confirmed_cases country_name\n",
            "date                                    \n",
            "2020-03-22                1  Timor_Leste\n",
            "            confirmed_cases country_name\n",
            "date                                    \n",
            "2020-03-23                1        Syria\n",
            "            confirmed_cases country_name\n",
            "date                                    \n",
            "2020-03-23                1      Grenada\n",
            "            confirmed_cases country_name\n",
            "date                                    \n",
            "2020-03-23                1     Dominica\n",
            "            confirmed_cases country_name\n",
            "date                                    \n",
            "2020-03-23                1   Mozambique\n",
            "            confirmed_cases country_name\n",
            "date                                    \n",
            "2020-03-24                1       Belize\n",
            "            confirmed_cases                  country_name\n",
            "date                                                     \n",
            "2020-03-24               17  United_States_Virgin_Islands\n",
            "            confirmed_cases country_name\n",
            "date                                    \n",
            "2020-03-25                1        Libya\n",
            "            confirmed_cases country_name\n",
            "date                                    \n",
            "2020-03-25                2         Laos\n",
            "            confirmed_cases              country_name\n",
            "date                                                 \n",
            "2020-03-25                1  Turks_and_Caicos_islands\n",
            "            confirmed_cases country_name\n",
            "date                                    \n",
            "2020-03-26                2         Mali\n",
            "            confirmed_cases           country_name\n",
            "date                                              \n",
            "2020-03-26                2  Saint_Kitts_and_Nevis\n",
            "            confirmed_cases   country_name\n",
            "date                                      \n",
            "2020-03-27                2  Guinea_Bissau\n",
            "            confirmed_cases country_name\n",
            "date                                    \n",
            "2020-03-27                2     Anguilla\n",
            "            confirmed_cases            country_name\n",
            "date                                               \n",
            "2020-03-27                2  British_Virgin_Islands\n",
            "            confirmed_cases country_name\n",
            "date                                    \n",
            "2020-03-28               64  Puerto_Rico\n",
            "            confirmed_cases              country_name\n",
            "date                                                 \n",
            "2020-03-31                2  Northern_Mariana_Islands\n",
            "            confirmed_cases country_name\n",
            "date                                    \n",
            "2020-04-01                3     Botswana\n",
            "            confirmed_cases  country_name\n",
            "date                                     \n",
            "2020-04-01                1  Sierra_Leone\n",
            "            confirmed_cases country_name\n",
            "date                                    \n",
            "2020-04-01                2      Burundi\n",
            "            confirmed_cases                       country_name\n",
            "date                                                          \n",
            "2020-04-02                2  Bonaire, Saint Eustatius and Saba\n",
            "            confirmed_cases country_name\n",
            "date                                    \n",
            "2020-04-03                3       Malawi\n",
            "            confirmed_cases                 country_name\n",
            "date                                                    \n",
            "2020-04-04                1  Falkland_Islands_(Malvinas)\n",
            "            confirmed_cases country_name\n",
            "date                                    \n",
            "2020-04-06                1  South_Sudan\n",
            "            confirmed_cases           country_name\n",
            "date                                              \n",
            "2020-04-09                4  Sao_Tome_and_Principe\n",
            "            confirmed_cases country_name\n",
            "date                                    \n",
            "2020-04-10                1        Yemen\n",
            "            confirmed_cases    country_name\n",
            "date                                       \n",
            "2020-04-26                6  Western_Sahara\n",
            "            confirmed_cases country_name\n",
            "date                                    \n",
            "2020-05-01               15   Tajikistan\n",
            "            confirmed_cases country_name\n",
            "date                                    \n",
            "2020-05-02                1      Comoros\n",
            "            confirmed_cases country_name\n",
            "date                                    \n",
            "2020-05-15                1      Lesotho\n",
            "            confirmed_cases     country_name\n",
            "date                                        \n",
            "2020-10-16                2  Solomon_Islands\n",
            "            confirmed_cases       country_name\n",
            "date                                          \n",
            "2020-10-17                1  Wallis_and_Futuna\n",
            "            confirmed_cases      country_name\n",
            "date                                         \n",
            "2020-10-29                1  Marshall_Islands\n",
            "            confirmed_cases country_name\n",
            "date                                    \n",
            "2020-11-11                1      Vanuatu\n"
          ]
        }
      ]
    },
    {
      "cell_type": "markdown",
      "source": [
        "# Fatality Ratio\n",
        "Added one additional column, namely fatality rate, which is the division between the deaths and confirmed_cases columns."
      ],
      "metadata": {
        "id": "WslR-ViqOstz"
      }
    },
    {
      "cell_type": "code",
      "source": [
        "df_covid_denormalized[\"fatality_ratio\"] = df_covid_denormalized[\"deaths\"] / df_covid_denormalized[\"confirmed_cases\"]\n",
        "print(df_covid_denormalized.head(100))"
      ],
      "metadata": {
        "colab": {
          "base_uri": "https://localhost:8080/"
        },
        "id": "kP_sKSbcOs1t",
        "outputId": "de05ac0e-acf3-4c5a-cec6-6df2d298d6d1"
      },
      "execution_count": 23,
      "outputs": [
        {
          "output_type": "stream",
          "name": "stdout",
          "text": [
            "            daily_confirmed_cases  daily_deaths  confirmed_cases  deaths  \\\n",
            "date                                                                       \n",
            "2019-12-31                      0             0                0       0   \n",
            "2020-01-01                      0             0                0       0   \n",
            "2020-01-02                      0             0                0       0   \n",
            "2020-01-03                      0             0                0       0   \n",
            "2020-01-04                      0             0                0       0   \n",
            "...                           ...           ...              ...     ...   \n",
            "2020-04-05                    472             9             3374      77   \n",
            "2020-04-06                    693            32             4067     109   \n",
            "2020-04-07                    354             5             4421     114   \n",
            "2020-04-08                    773            35             5194     149   \n",
            "2020-04-09                    540            17             5734     166   \n",
            "\n",
            "           geo_id country_name  fatality_ratio  \n",
            "date                                            \n",
            "2019-12-31     IN        India             NaN  \n",
            "2020-01-01     IN        India             NaN  \n",
            "2020-01-02     IN        India             NaN  \n",
            "2020-01-03     IN        India             NaN  \n",
            "2020-01-04     IN        India             NaN  \n",
            "...           ...          ...             ...  \n",
            "2020-04-05     IN        India        0.022822  \n",
            "2020-04-06     IN        India        0.026801  \n",
            "2020-04-07     IN        India        0.025786  \n",
            "2020-04-08     IN        India        0.028687  \n",
            "2020-04-09     IN        India        0.028950  \n",
            "\n",
            "[100 rows x 7 columns]\n"
          ]
        }
      ]
    },
    {
      "cell_type": "markdown",
      "source": [
        "# Top county with the highest fatality rate\n"
      ],
      "metadata": {
        "id": "o79k8TQxPMkm"
      }
    },
    {
      "cell_type": "code",
      "source": [
        "df_top_20_fatality_rate = df_covid_denormalized.sort_values(\"fatality_ratio\", ascending=False).head(20)\n",
        "print(df_top_20_fatality_rate[[\"geo_id\",\"country_name\",\"fatality_ratio\"]])"
      ],
      "metadata": {
        "colab": {
          "base_uri": "https://localhost:8080/"
        },
        "id": "h0buSiDSPMtO",
        "outputId": "65065c85-fe93-4f95-dc4b-2a2ed56648ce"
      },
      "execution_count": 29,
      "outputs": [
        {
          "output_type": "stream",
          "name": "stdout",
          "text": [
            "           geo_id country_name  fatality_ratio\n",
            "date                                          \n",
            "2020-03-15     SD        Sudan             1.0\n",
            "2020-02-20     IR         Iran             1.0\n",
            "2020-03-16     GT    Guatemala             1.0\n",
            "2020-03-13     GY       Guyana             1.0\n",
            "2020-03-18     SD        Sudan             1.0\n",
            "2020-03-17     SD        Sudan             1.0\n",
            "2020-03-16     SD        Sudan             1.0\n",
            "2020-02-03     PH  Philippines             0.5\n",
            "2020-02-05     PH  Philippines             0.5\n",
            "2020-02-04     PH  Philippines             0.5\n",
            "2020-03-28     NI    Nicaragua             0.5\n",
            "2020-02-02     PH  Philippines             0.5\n",
            "2020-03-24     ZW     Zimbabwe             0.5\n",
            "2020-03-24     GM       Gambia             0.5\n",
            "2020-03-19     SD        Sudan             0.5\n",
            "2020-03-20     SD        Sudan             0.5\n",
            "2020-03-21     SD        Sudan             0.5\n",
            "2020-03-22     SD        Sudan             0.5\n",
            "2020-03-23     SD        Sudan             0.5\n",
            "2020-03-24     SD        Sudan             0.5\n"
          ]
        }
      ]
    },
    {
      "cell_type": "markdown",
      "source": [
        "# The condition of the highest fatality ratio in August 2020"
      ],
      "metadata": {
        "id": "N2I_skmqPpN2"
      }
    },
    {
      "cell_type": "code",
      "source": [
        "df_covid_denormalized_august = df_covid_denormalized.loc[\"2020-08\"].groupby(\"country_name\").sum()\n",
        "\n",
        "df_covid_denormalized_august[\"fatality_ratio\"] = df_covid_denormalized_august[\"deaths\"]/df_covid_denormalized_august[\"confirmed_cases\"]\n",
        "df_fatality_rate_on_august = df_covid_denormalized_august.sort_values(by=\"fatality_ratio\", ascending=False)\n",
        "print(df_fatality_rate_on_august[\"fatality_ratio\"].head(20)) "
      ],
      "metadata": {
        "colab": {
          "base_uri": "https://localhost:8080/"
        },
        "id": "v4x7fX0-PpWO",
        "outputId": "06fdca95-befb-4fb7-aa0a-f7841dd36c5e"
      },
      "execution_count": 45,
      "outputs": [
        {
          "output_type": "stream",
          "name": "stdout",
          "text": [
            "country_name\n",
            "Yemen                     0.286473\n",
            "Italy                     0.138619\n",
            "France                    0.137979\n",
            "United_Kingdom            0.130228\n",
            "Belgium                   0.125079\n",
            "Hungary                   0.122820\n",
            "Netherlands               0.099309\n",
            "Mexico                    0.099092\n",
            "Jersey                    0.088677\n",
            "Spain                     0.079746\n",
            "Chad                      0.078870\n",
            "Montserrat                0.076923\n",
            "Canada                    0.073963\n",
            "Sweden                    0.071475\n",
            "Isle_of_Man               0.071429\n",
            "British_Virgin_Islands    0.066239\n",
            "Ireland                   0.065030\n",
            "Sudan                     0.064250\n",
            "Liberia                   0.063944\n",
            "Ecuador                   0.061031\n",
            "Name: fatality_ratio, dtype: float64\n"
          ]
        }
      ]
    },
    {
      "cell_type": "markdown",
      "source": [
        "# Visualize top 20 country with the highest fatality rate on August"
      ],
      "metadata": {
        "id": "pRtPP1uTUOw9"
      }
    },
    {
      "cell_type": "code",
      "source": [
        "plt.figure(figsize=(8,8))\n",
        "df_fatality_rate_on_august[\"fatality_ratio\"].head(20).sort_values().plot(kind=\"barh\", color=\"coral\")\n",
        "plt.title(\"Top Highest Fatality Rate Countries on August 2020\", fontsize=18, color=\"b\")\n",
        "plt.xlabel(\"Fatality Rate\", fontsize=14)\n",
        "plt.ylabel(\"Country Name\", fontsize=14)\n",
        "plt.grid(axis=\"x\")\n",
        "plt.show()"
      ],
      "metadata": {
        "colab": {
          "base_uri": "https://localhost:8080/",
          "height": 521
        },
        "id": "xl8HTYthUPCy",
        "outputId": "44176896-ce8a-45be-b146-f27d509158cc"
      },
      "execution_count": 44,
      "outputs": [
        {
          "output_type": "display_data",
          "data": {
            "text/plain": [
              "<Figure size 576x576 with 1 Axes>"
            ],
            "image/png": "[encoded data removed]"
          },
          "metadata": {
            "needs_background": "light"
          }
        }
      ]
    },
    {
      "cell_type": "markdown",
      "source": [
        "&#169; Wildan Hanif Musyaffa"
      ],
      "metadata": {
        "id": "Z9Y-pO2AcnkV"
      }
    }
  ]
}
